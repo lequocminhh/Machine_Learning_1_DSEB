{
 "cells": [
  {
   "cell_type": "code",
   "execution_count": 1,
   "id": "fe2833a9",
   "metadata": {},
   "outputs": [],
   "source": [
    "import numpy as np\n",
    "import pandas as pd\n",
    "import matplotlib.pyplot as plt\n"
   ]
  },
  {
   "cell_type": "code",
   "execution_count": 4,
   "id": "caa7c93d",
   "metadata": {},
   "outputs": [
    {
     "data": {
      "image/png": "[encoded data removed]",
      "text/plain": [
       "<Figure size 432x288 with 1 Axes>"
      ]
     },
     "metadata": {
      "needs_background": "light"
     },
     "output_type": "display_data"
    }
   ],
   "source": [
    "data = pd.read_csv('data_linear.csv')\n",
    "plo = data.plot.scatter(x='Diện tích', y='Giá').set_title('Biểu đồ giá nhà')"
   ]
  },
  {
   "cell_type": "code",
   "execution_count": 32,
   "id": "371249ff",
   "metadata": {},
   "outputs": [
    {
     "name": "stdout",
     "output_type": "stream",
     "text": [
      "13929872.64455245\n",
      "2217712.7069988097\n",
      "355740.34965620865\n",
      "59728.24664126795\n",
      "12668.917181838051\n",
      "5187.529301679128\n",
      "3998.151899338913\n",
      "3809.0639077106184\n",
      "3778.999635090615\n",
      "3774.21658918526\n",
      "3773.452694979121\n",
      "3773.3277564984783\n",
      "3773.3043979316026\n",
      "3773.2971885030656\n",
      "3773.292546623926\n",
      "3773.2883131242565\n",
      "3773.2841447441892\n",
      "3773.279986913009\n",
      "3773.275830955181\n",
      "3773.271675491507\n",
      "3773.267520302687\n",
      "3773.263365353886\n",
      "3773.259210639498\n",
      "3773.255056158643\n",
      "3773.2509019111935\n",
      "3773.2467478970975\n",
      "3773.242594116318\n",
      "3773.2384405688877\n",
      "3773.2342872547506\n",
      "3773.2301341739185\n",
      "3773.2259813263586\n",
      "3773.221828712077\n",
      "3773.2176763310663\n",
      "3773.2135241832702\n",
      "3773.2093722687227\n",
      "3773.2052205874043\n",
      "3773.2010691392775\n",
      "3773.1969179243442\n",
      "3773.1927669425863\n",
      "3773.188616193993\n",
      "3773.1844656785493\n",
      "3773.180315396268\n",
      "3773.1761653470853\n",
      "3773.1720155310372\n",
      "3773.167865948084\n",
      "3773.163716598206\n",
      "3773.1595674813957\n",
      "3773.15541859768\n",
      "3773.1512699469895\n",
      "3773.147121529321\n",
      "3773.142973344702\n",
      "3773.1388253930745\n",
      "3773.1346776744417\n",
      "3773.1305301887946\n",
      "3773.126382936133\n",
      "3773.122235916407\n",
      "3773.1180891296385\n",
      "3773.1139425757738\n",
      "3773.109796254867\n",
      "3773.105650166832\n",
      "3773.1015043116954\n",
      "3773.0973586894397\n",
      "3773.0932133000456\n",
      "3773.0890681435076\n",
      "3773.0849232198125\n",
      "3773.080778528933\n",
      "3773.076634070869\n",
      "3773.0724898455924\n",
      "3773.068345853118\n",
      "3773.0642020934188\n",
      "3773.0600585664642\n",
      "3773.0559152722526\n",
      "3773.0517722108107\n",
      "3773.047629382063\n",
      "3773.043486786026\n",
      "3773.0393444226843\n",
      "3773.0352022920256\n",
      "3773.03106039402\n",
      "3773.026918728683\n",
      "3773.0227772959984\n",
      "3773.0186360959283\n",
      "3773.0144951284715\n",
      "3773.010354393634\n",
      "3773.006213891369\n",
      "3773.002073621702\n",
      "3772.9979335845815\n",
      "3772.993793780024\n",
      "3772.9896542079837\n",
      "3772.985514868493\n",
      "3772.9813757615057\n",
      "3772.977236887026\n",
      "3772.9730982450087\n",
      "3772.968959835471\n",
      "3772.9648216583937\n",
      "3772.960683713775\n",
      "3772.9565460015833\n",
      "3772.952408521807\n",
      "3772.948271274447\n",
      "3772.944134259462\n"
     ]
    },
    {
     "data": {
      "image/png": "[encoded data removed]",
      "text/plain": [
       "<Figure size 432x288 with 1 Axes>"
      ]
     },
     "metadata": {
      "needs_background": "light"
     },
     "output_type": "display_data"
    },
    {
     "name": "stdout",
     "output_type": "stream",
     "text": [
      "Gia cua nha 50 m^2 la: 755.683\n",
      "Gia cua nha 100 m^2 la: 1511.189\n",
      "Gia cua nha 150 m^2 la: 2266.695\n"
     ]
    }
   ],
   "source": [
    "import numpy as np\n",
    "import pandas as pd\n",
    "import matplotlib.pyplot as plt\n",
    "\n",
    "data = pd.read_csv('data_linear.csv').to_numpy()\n",
    "n = data.shape[0]\n",
    "x_init = data[:, 0].reshape(-1, 1)\n",
    "y = data[:, 1].reshape(-1, 1)\n",
    "plt.scatter(x_init, y)\n",
    "plt.xlabel('Area (square metre)')\n",
    "plt.ylabel('Price (dollars)')\n",
    "\n",
    "# add 1's in the 0th column of x\n",
    "x = np.zeros((x_init.shape[0], x_init.shape[1] + 1), dtype=x_init.dtype)\n",
    "x[:, 0] = 1\n",
    "x[:, 1:] = x_init\n",
    "\n",
    "w = np.array([0., 1.]).reshape(-1, 1)\n",
    "\n",
    "alpha = 1e-5\n",
    "max_iter = 100\n",
    "for i in range(1, max_iter):\n",
    "    diff = np.dot(x, w) - y\n",
    "    cost = 0.5 * np.sum(diff * diff)\n",
    "    w[0] -= alpha * np.sum(diff)\n",
    "    w[1] -= alpha * np.sum(np.multiply(diff, x[:, 1].reshape(-1, 1)))\n",
    "    print(cost)\n",
    "\n",
    "pred = np.dot(x, w)\n",
    "plt.plot((x[0][1], x[n-1][1]), (pred[0], pred[n-1]), 'r')\n",
    "plt.show()\n",
    "\n",
    "area = [50, 100, 150]\n",
    "for a in area:\n",
    "    print(f'Gia cua nha {a} m^2 la:', round((w[0] + w[1] * a).item(), 3))"
   ]
  },
  {
   "cell_type": "code",
   "execution_count": 12,
   "id": "21f21767",
   "metadata": {},
   "outputs": [
    {
     "data": {
      "text/html": [
       "<div>\n",
       "<style scoped>\n",
       "    .dataframe tbody tr th:only-of-type {\n",
       "        vertical-align: middle;\n",
       "    }\n",
       "\n",
       "    .dataframe tbody tr th {\n",
       "        vertical-align: top;\n",
       "    }\n",
       "\n",
       "    .dataframe thead th {\n",
       "        text-align: right;\n",
       "    }\n",
       "</style>\n",
       "<table border=\"1\" class=\"dataframe\">\n",
       "  <thead>\n",
       "    <tr style=\"text-align: right;\">\n",
       "      <th></th>\n",
       "      <th>CRIM</th>\n",
       "      <th>ZN</th>\n",
       "      <th>INDUS</th>\n",
       "      <th>CHAS</th>\n",
       "      <th>NOX</th>\n",
       "      <th>RM</th>\n",
       "      <th>AGE</th>\n",
       "      <th>DIS</th>\n",
       "      <th>RAD</th>\n",
       "      <th>TAX</th>\n",
       "      <th>PTRATIO</th>\n",
       "      <th>B</th>\n",
       "      <th>LSTAT</th>\n",
       "      <th>MEDV</th>\n",
       "    </tr>\n",
       "  </thead>\n",
       "  <tbody>\n",
       "    <tr>\n",
       "      <th>0</th>\n",
       "      <td>0.00632</td>\n",
       "      <td>18.0</td>\n",
       "      <td>2.31</td>\n",
       "      <td>0</td>\n",
       "      <td>0.538</td>\n",
       "      <td>6.575</td>\n",
       "      <td>65.2</td>\n",
       "      <td>4.0900</td>\n",
       "      <td>1</td>\n",
       "      <td>296.0</td>\n",
       "      <td>15.3</td>\n",
       "      <td>396.90</td>\n",
       "      <td>4.98</td>\n",
       "      <td>24.0</td>\n",
       "    </tr>\n",
       "    <tr>\n",
       "      <th>1</th>\n",
       "      <td>0.02731</td>\n",
       "      <td>0.0</td>\n",
       "      <td>7.07</td>\n",
       "      <td>0</td>\n",
       "      <td>0.469</td>\n",
       "      <td>6.421</td>\n",
       "      <td>78.9</td>\n",
       "      <td>4.9671</td>\n",
       "      <td>2</td>\n",
       "      <td>242.0</td>\n",
       "      <td>17.8</td>\n",
       "      <td>396.90</td>\n",
       "      <td>9.14</td>\n",
       "      <td>21.6</td>\n",
       "    </tr>\n",
       "    <tr>\n",
       "      <th>2</th>\n",
       "      <td>0.02729</td>\n",
       "      <td>0.0</td>\n",
       "      <td>7.07</td>\n",
       "      <td>0</td>\n",
       "      <td>0.469</td>\n",
       "      <td>7.185</td>\n",
       "      <td>61.1</td>\n",
       "      <td>4.9671</td>\n",
       "      <td>2</td>\n",
       "      <td>242.0</td>\n",
       "      <td>17.8</td>\n",
       "      <td>392.83</td>\n",
       "      <td>4.03</td>\n",
       "      <td>34.7</td>\n",
       "    </tr>\n",
       "    <tr>\n",
       "      <th>3</th>\n",
       "      <td>0.03237</td>\n",
       "      <td>0.0</td>\n",
       "      <td>2.18</td>\n",
       "      <td>0</td>\n",
       "      <td>0.458</td>\n",
       "      <td>6.998</td>\n",
       "      <td>45.8</td>\n",
       "      <td>6.0622</td>\n",
       "      <td>3</td>\n",
       "      <td>222.0</td>\n",
       "      <td>18.7</td>\n",
       "      <td>394.63</td>\n",
       "      <td>2.94</td>\n",
       "      <td>33.4</td>\n",
       "    </tr>\n",
       "    <tr>\n",
       "      <th>4</th>\n",
       "      <td>0.06905</td>\n",
       "      <td>0.0</td>\n",
       "      <td>2.18</td>\n",
       "      <td>0</td>\n",
       "      <td>0.458</td>\n",
       "      <td>7.147</td>\n",
       "      <td>54.2</td>\n",
       "      <td>6.0622</td>\n",
       "      <td>3</td>\n",
       "      <td>222.0</td>\n",
       "      <td>18.7</td>\n",
       "      <td>396.90</td>\n",
       "      <td>5.33</td>\n",
       "      <td>36.2</td>\n",
       "    </tr>\n",
       "  </tbody>\n",
       "</table>\n",
       "</div>"
      ],
      "text/plain": [
       "      CRIM    ZN  INDUS  CHAS    NOX     RM   AGE     DIS  RAD    TAX  \\\n",
       "0  0.00632  18.0   2.31     0  0.538  6.575  65.2  4.0900    1  296.0   \n",
       "1  0.02731   0.0   7.07     0  0.469  6.421  78.9  4.9671    2  242.0   \n",
       "2  0.02729   0.0   7.07     0  0.469  7.185  61.1  4.9671    2  242.0   \n",
       "3  0.03237   0.0   2.18     0  0.458  6.998  45.8  6.0622    3  222.0   \n",
       "4  0.06905   0.0   2.18     0  0.458  7.147  54.2  6.0622    3  222.0   \n",
       "\n",
       "   PTRATIO       B  LSTAT  MEDV  \n",
       "0     15.3  396.90   4.98  24.0  \n",
       "1     17.8  396.90   9.14  21.6  \n",
       "2     17.8  392.83   4.03  34.7  \n",
       "3     18.7  394.63   2.94  33.4  \n",
       "4     18.7  396.90   5.33  36.2  "
      ]
     },
     "execution_count": 12,
     "metadata": {},
     "output_type": "execute_result"
    }
   ],
   "source": [
    "column_names = ['CRIM', 'ZN', 'INDUS', 'CHAS', 'NOX', 'RM', 'AGE', 'DIS', 'RAD', 'TAX', 'PTRATIO', 'B', 'LSTAT', 'MEDV']\n",
    "data_2 = pd.read_csv('housing.csv.xls',header=None,delimiter=r'\\s+', names=column_names)\n",
    "data_2.head()"
   ]
  },
  {
   "cell_type": "code",
   "execution_count": 14,
   "id": "267b1eb9",
   "metadata": {},
   "outputs": [],
   "source": [
    "X = data_2.drop('MEDV', axis=1).values\n",
    "y = data_2['MEDV'].values\n",
    "N = data_2.shape[0]"
   ]
  },
  {
   "cell_type": "code",
   "execution_count": 15,
   "id": "fc78dc3d",
   "metadata": {},
   "outputs": [
    {
     "data": {
      "text/plain": [
       "(506, 1)"
      ]
     },
     "execution_count": 15,
     "metadata": {},
     "output_type": "execute_result"
    }
   ],
   "source": [
    "y = y.reshape(-1, 1)\n",
    "y.shape"
   ]
  },
  {
   "cell_type": "code",
   "execution_count": 16,
   "id": "9c60c436",
   "metadata": {},
   "outputs": [
    {
     "data": {
      "text/plain": [
       "array([[1.0000e+00, 6.3200e-03, 1.8000e+01, ..., 1.5300e+01, 3.9690e+02,\n",
       "        4.9800e+00],\n",
       "       [1.0000e+00, 2.7310e-02, 0.0000e+00, ..., 1.7800e+01, 3.9690e+02,\n",
       "        9.1400e+00],\n",
       "       [1.0000e+00, 2.7290e-02, 0.0000e+00, ..., 1.7800e+01, 3.9283e+02,\n",
       "        4.0300e+00],\n",
       "       ...,\n",
       "       [1.0000e+00, 6.0760e-02, 0.0000e+00, ..., 2.1000e+01, 3.9690e+02,\n",
       "        5.6400e+00],\n",
       "       [1.0000e+00, 1.0959e-01, 0.0000e+00, ..., 2.1000e+01, 3.9345e+02,\n",
       "        6.4800e+00],\n",
       "       [1.0000e+00, 4.7410e-02, 0.0000e+00, ..., 2.1000e+01, 3.9690e+02,\n",
       "        7.8800e+00]])"
      ]
     },
     "execution_count": 16,
     "metadata": {},
     "output_type": "execute_result"
    }
   ],
   "source": [
    "ones = np.ones(shape=N).reshape(-1,1)\n",
    "X = np.concatenate((ones, X), 1)\n",
    "X"
   ]
  },
  {
   "cell_type": "code",
   "execution_count": 18,
   "id": "fe7e5dc6",
   "metadata": {},
   "outputs": [
    {
     "data": {
      "text/plain": [
       "array([[ 3.64594884e+01],\n",
       "       [-1.08011358e-01],\n",
       "       [ 4.64204584e-02],\n",
       "       [ 2.05586264e-02],\n",
       "       [ 2.68673382e+00],\n",
       "       [-1.77666112e+01],\n",
       "       [ 3.80986521e+00],\n",
       "       [ 6.92224640e-04],\n",
       "       [-1.47556685e+00],\n",
       "       [ 3.06049479e-01],\n",
       "       [-1.23345939e-02],\n",
       "       [-9.52747232e-01],\n",
       "       [ 9.31168327e-03],\n",
       "       [-5.24758378e-01]])"
      ]
     },
     "execution_count": 18,
     "metadata": {},
     "output_type": "execute_result"
    }
   ],
   "source": [
    "from numpy.linalg import inv\n",
    "coeficient = inv(X.T @X)@X.T @y\n",
    "coeficient"
   ]
  },
  {
   "cell_type": "code",
   "execution_count": 30,
   "id": "898d78a8",
   "metadata": {},
   "outputs": [],
   "source": [
    "def prediction(case):\n",
    "    b_0 = coeficient[0]\n",
    "    other_b = coeficient[1:]\n",
    "    predict = b_0\n",
    "    for x_i, b_i in zip(case, other_b):\n",
    "        prediction += (b_i * x_i)\n",
    "        return predict"
   ]
  },
  {
   "cell_type": "code",
   "execution_count": null,
   "id": "4465a901",
   "metadata": {},
   "outputs": [],
   "source": [
    "prediction(X[0])"
   ]
  }
 ],
 "metadata": {
  "kernelspec": {
   "display_name": "Python 3 (ipykernel)",
   "language": "python",
   "name": "python3"
  },
  "language_info": {
   "codemirror_mode": {
    "name": "ipython",
    "version": 3
   },
   "file_extension": ".py",
   "mimetype": "text/x-python",
   "name": "python",
   "nbconvert_exporter": "python",
   "pygments_lexer": "ipython3",
   "version": "3.9.12"
  }
 },
 "nbformat": 4,
 "nbformat_minor": 5
}
